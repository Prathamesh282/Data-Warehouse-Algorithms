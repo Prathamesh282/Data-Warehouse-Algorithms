{
 "cells": [
  {
   "cell_type": "code",
   "execution_count": 1,
   "id": "1ca04952-c312-4e0e-b7bb-73d12d6434fd",
   "metadata": {},
   "outputs": [
    {
     "name": "stdout",
     "output_type": "stream",
     "text": [
      "Hub Scores: [8.50650808e-01 5.25731112e-01 1.15806515e-42]\n",
      "Authority Scores: [1.87378877e-42 5.25731112e-01 8.50650808e-01]\n"
     ]
    }
   ],
   "source": [
    "import numpy as np\n",
    "\n",
    "def hits(M, num_iterations: int = 100):\n",
    "    N = M.shape[1]\n",
    "    hub = np.ones(N)\n",
    "    auth = np.ones(N)\n",
    "    for _ in range(num_iterations):\n",
    "        auth = M.T.dot(hub)\n",
    "        hub = M.dot(auth)\n",
    "        # Normalize\n",
    "        auth = auth / np.linalg.norm(auth, 2)\n",
    "        hub = hub / np.linalg.norm(hub, 2)\n",
    "    return hub, auth\n",
    "\n",
    "# Example web link matrix\n",
    "M = np.array([[0, 1, 1], [0, 0, 1], [1, 0, 0]])\n",
    "\n",
    "hub, auth = hits(M)\n",
    "print(\"Hub Scores:\", hub)\n",
    "print(\"Authority Scores:\", auth)"
   ]
  },
  {
   "cell_type": "code",
   "execution_count": null,
   "id": "1e348df5-fd24-44d5-8785-166df6405a85",
   "metadata": {},
   "outputs": [],
   "source": []
  }
 ],
 "metadata": {
  "kernelspec": {
   "display_name": "Python 3 (ipykernel)",
   "language": "python",
   "name": "python3"
  },
  "language_info": {
   "codemirror_mode": {
    "name": "ipython",
    "version": 3
   },
   "file_extension": ".py",
   "mimetype": "text/x-python",
   "name": "python",
   "nbconvert_exporter": "python",
   "pygments_lexer": "ipython3",
   "version": "3.10.0"
  }
 },
 "nbformat": 4,
 "nbformat_minor": 5
}
